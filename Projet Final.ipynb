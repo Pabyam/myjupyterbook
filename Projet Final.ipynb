{
 "cells": [
  {
   "cell_type": "markdown",
   "id": "376ff10a-4176-4855-8494-858f8ee9d02e",
   "metadata": {},
   "source": [
    "# Projet Final "
   ]
  },
  {
   "cell_type": "markdown",
   "id": "6571999e-fd06-49f3-b01c-e246c6f77c71",
   "metadata": {},
   "source": [
    "### Decouverte du Dataset"
   ]
  },
  {
   "cell_type": "markdown",
   "id": "2e40d355-e818-47b4-8399-b0eccf166422",
   "metadata": {},
   "source": [
    "### Introductions"
   ]
  },
  {
   "cell_type": "code",
   "execution_count": 4,
   "id": "afe77586-6000-4168-84c8-ed9cbd035132",
   "metadata": {},
   "outputs": [
    {
     "name": "stdout",
     "output_type": "stream",
     "text": [
      "[['', 'year', 'month', 'intent', 'police', 'sex', 'age', 'race', 'hispanic', 'place', 'education'], ['1', '2012', '01', 'Suicide', '0', 'M', '34', 'Asian/Pacific Islander', '100', 'Home', '4'], ['2', '2012', '01', 'Suicide', '0', 'F', '21', 'White', '100', 'Street', '3'], ['3', '2012', '01', 'Suicide', '0', 'M', '60', 'White', '100', 'Other specified', '4'], ['4', '2012', '02', 'Suicide', '0', 'M', '64', 'White', '100', 'Home', '4']]\n"
     ]
    }
   ],
   "source": [
    "import csv\n",
    "f=open('guns.csv',encoding='utf-8')\n",
    "csvreader=csv.reader(f)\n",
    "data=list(csvreader)\n",
    "print(data[0:5])"
   ]
  },
  {
   "cell_type": "code",
   "execution_count": 5,
   "id": "8426e5c2-f81f-4a1d-9b66-412cbb186c1b",
   "metadata": {},
   "outputs": [
    {
     "name": "stdout",
     "output_type": "stream",
     "text": [
      "['', 'year', 'month', 'intent', 'police', 'sex', 'age', 'race', 'hispanic', 'place', 'education']\n"
     ]
    }
   ],
   "source": [
    "header=data[0]\n",
    "data=data[1:]\n",
    "print(header)"
   ]
  },
  {
   "cell_type": "code",
   "execution_count": 6,
   "id": "01439bfe-741f-49e9-801b-e11033a9e6b9",
   "metadata": {},
   "outputs": [
    {
     "name": "stdout",
     "output_type": "stream",
     "text": [
      "[['1', '2012', '01', 'Suicide', '0', 'M', '34', 'Asian/Pacific Islander', '100', 'Home', '4'], ['2', '2012', '01', 'Suicide', '0', 'F', '21', 'White', '100', 'Street', '3'], ['3', '2012', '01', 'Suicide', '0', 'M', '60', 'White', '100', 'Other specified', '4'], ['4', '2012', '02', 'Suicide', '0', 'M', '64', 'White', '100', 'Home', '4'], ['5', '2012', '02', 'Suicide', '0', 'M', '31', 'White', '100', 'Other specified', '2']]\n"
     ]
    }
   ],
   "source": [
    "print(data[0:5])"
   ]
  },
  {
   "cell_type": "markdown",
   "id": "e7b65ef5-bf29-4af7-a053-26b747460d74",
   "metadata": {},
   "source": [
    "### 2.Compter le nombre de deces par ames a feux aux USA par annee"
   ]
  },
  {
   "cell_type": "code",
   "execution_count": 8,
   "id": "83d418b6-cc8e-4cd9-b785-23452a695c52",
   "metadata": {},
   "outputs": [],
   "source": [
    "years=[row[1] for row in data]"
   ]
  },
  {
   "cell_type": "code",
   "execution_count": 9,
   "id": "d786b1d1-c3cc-489d-bfa4-b258b782005e",
   "metadata": {},
   "outputs": [],
   "source": [
    "year_counts={}\n",
    "for year in years:\n",
    "    if year not in year_counts:\n",
    "        year_counts[year]=0\n",
    "    year_counts[year]+=1"
   ]
  },
  {
   "cell_type": "code",
   "execution_count": 10,
   "id": "ac6a8aad-4b1d-4ac0-8832-073bad3e8201",
   "metadata": {},
   "outputs": [
    {
     "name": "stdout",
     "output_type": "stream",
     "text": [
      "{'2012': 33563, '2013': 33636, '2014': 33599}\n"
     ]
    }
   ],
   "source": [
    "print(year_counts)"
   ]
  },
  {
   "cell_type": "markdown",
   "id": "0cb0ab9c-c9dd-4675-8ef5-1d82bbc47266",
   "metadata": {},
   "source": [
    "### 3.Explorer les deces par armes a feu par mois et annee"
   ]
  },
  {
   "cell_type": "code",
   "execution_count": 12,
   "id": "b0975f8c-8dd0-4226-9f6c-426f57eab039",
   "metadata": {},
   "outputs": [],
   "source": [
    "import datetime\n",
    "dates=[datetime.datetime(year=int(row[1]),month=int(row[2]),day=1)for row in data]"
   ]
  },
  {
   "cell_type": "code",
   "execution_count": 13,
   "id": "73e94fab-33c1-4b05-bfad-f64e93ea9dca",
   "metadata": {},
   "outputs": [
    {
     "data": {
      "text/plain": [
       "[datetime.datetime(2012, 1, 1, 0, 0),\n",
       " datetime.datetime(2012, 1, 1, 0, 0),\n",
       " datetime.datetime(2012, 1, 1, 0, 0),\n",
       " datetime.datetime(2012, 2, 1, 0, 0),\n",
       " datetime.datetime(2012, 2, 1, 0, 0)]"
      ]
     },
     "execution_count": 13,
     "metadata": {},
     "output_type": "execute_result"
    }
   ],
   "source": [
    "dates[:5]"
   ]
  },
  {
   "cell_type": "code",
   "execution_count": 18,
   "id": "8d768fec-c6a9-4f8e-be5c-f200a7c2ea66",
   "metadata": {},
   "outputs": [],
   "source": [
    "date_count={}\n",
    "for date in dates:\n",
    "    if date not in date_count:\n",
    "        date_count[date]=0\n",
    "    date_count[date]+=1"
   ]
  },
  {
   "cell_type": "code",
   "execution_count": 21,
   "id": "7fd3cc3d-6b5d-4ef1-932c-c1dadb595322",
   "metadata": {},
   "outputs": [
    {
     "data": {
      "text/plain": [
       "{datetime.datetime(2012, 1, 1, 0, 0): 2758,\n",
       " datetime.datetime(2012, 2, 1, 0, 0): 2357,\n",
       " datetime.datetime(2012, 3, 1, 0, 0): 2743,\n",
       " datetime.datetime(2012, 4, 1, 0, 0): 2795,\n",
       " datetime.datetime(2012, 5, 1, 0, 0): 2999,\n",
       " datetime.datetime(2012, 6, 1, 0, 0): 2826,\n",
       " datetime.datetime(2012, 7, 1, 0, 0): 3026,\n",
       " datetime.datetime(2012, 8, 1, 0, 0): 2954,\n",
       " datetime.datetime(2012, 9, 1, 0, 0): 2852,\n",
       " datetime.datetime(2012, 10, 1, 0, 0): 2733,\n",
       " datetime.datetime(2012, 11, 1, 0, 0): 2729,\n",
       " datetime.datetime(2012, 12, 1, 0, 0): 2791,\n",
       " datetime.datetime(2013, 1, 1, 0, 0): 2864,\n",
       " datetime.datetime(2013, 2, 1, 0, 0): 2375,\n",
       " datetime.datetime(2013, 3, 1, 0, 0): 2862,\n",
       " datetime.datetime(2013, 4, 1, 0, 0): 2798,\n",
       " datetime.datetime(2013, 5, 1, 0, 0): 2806,\n",
       " datetime.datetime(2013, 6, 1, 0, 0): 2920,\n",
       " datetime.datetime(2013, 7, 1, 0, 0): 3079,\n",
       " datetime.datetime(2013, 8, 1, 0, 0): 2859,\n",
       " datetime.datetime(2013, 9, 1, 0, 0): 2742,\n",
       " datetime.datetime(2013, 10, 1, 0, 0): 2808,\n",
       " datetime.datetime(2013, 11, 1, 0, 0): 2758,\n",
       " datetime.datetime(2013, 12, 1, 0, 0): 2765,\n",
       " datetime.datetime(2014, 1, 1, 0, 0): 2651,\n",
       " datetime.datetime(2014, 2, 1, 0, 0): 2361,\n",
       " datetime.datetime(2014, 3, 1, 0, 0): 2684,\n",
       " datetime.datetime(2014, 4, 1, 0, 0): 2862,\n",
       " datetime.datetime(2014, 5, 1, 0, 0): 2864,\n",
       " datetime.datetime(2014, 6, 1, 0, 0): 2931,\n",
       " datetime.datetime(2014, 7, 1, 0, 0): 2884,\n",
       " datetime.datetime(2014, 8, 1, 0, 0): 2970,\n",
       " datetime.datetime(2014, 9, 1, 0, 0): 2914,\n",
       " datetime.datetime(2014, 10, 1, 0, 0): 2865,\n",
       " datetime.datetime(2014, 11, 1, 0, 0): 2756,\n",
       " datetime.datetime(2014, 12, 1, 0, 0): 2857}"
      ]
     },
     "execution_count": 21,
     "metadata": {},
     "output_type": "execute_result"
    }
   ],
   "source": [
    "date_count"
   ]
  },
  {
   "cell_type": "markdown",
   "id": "d45477c0-69ec-435d-b87d-adaa3664598b",
   "metadata": {},
   "source": [
    "### 4.Explorer les deces par arme a feu par origine et sexe"
   ]
  },
  {
   "cell_type": "code",
   "execution_count": 27,
   "id": "d426f568-8324-43f2-b491-7bce4285aad9",
   "metadata": {},
   "outputs": [],
   "source": [
    "sex_counts={}\n",
    "for row in data:\n",
    "    sex=row[5]\n",
    "    if  sex not in sex_counts:\n",
    "        sex_counts[sex]=0\n",
    "    sex_counts[sex]+=1"
   ]
  },
  {
   "cell_type": "code",
   "execution_count": 29,
   "id": "f30734f2-dcf1-46a0-8552-969169d04ee0",
   "metadata": {},
   "outputs": [
    {
     "data": {
      "text/plain": [
       "{'M': 86349, 'F': 14449}"
      ]
     },
     "execution_count": 29,
     "metadata": {},
     "output_type": "execute_result"
    }
   ],
   "source": [
    "sex_counts"
   ]
  },
  {
   "cell_type": "code",
   "execution_count": 31,
   "id": "5b13883b-818d-4021-a017-843331c56f39",
   "metadata": {},
   "outputs": [],
   "source": [
    "race_counts={}\n",
    "for row in data:\n",
    "    race=row[7]\n",
    "    if race not in race_counts:\n",
    "        race_counts[race]=0\n",
    "    race_counts[race]+=1"
   ]
  },
  {
   "cell_type": "code",
   "execution_count": 33,
   "id": "b1b307e4-37fa-413b-8999-2b4d10cea1d7",
   "metadata": {},
   "outputs": [
    {
     "data": {
      "text/plain": [
       "{'Asian/Pacific Islander': 1326,\n",
       " 'White': 66237,\n",
       " 'Native American/Native Alaskan': 917,\n",
       " 'Black': 23296,\n",
       " 'Hispanic': 9022}"
      ]
     },
     "execution_count": 33,
     "metadata": {},
     "output_type": "execute_result"
    }
   ],
   "source": [
    "race_counts"
   ]
  },
  {
   "cell_type": "markdown",
   "id": "288ff750-bb10-411f-a6cc-9e0b02a9aa84",
   "metadata": {},
   "source": [
    "### Dataset Population"
   ]
  },
  {
   "cell_type": "code",
   "execution_count": 36,
   "id": "d600ae3e-0103-428f-9aea-dc8fb2ca71e3",
   "metadata": {},
   "outputs": [],
   "source": [
    "with open('census.csv','r')as f:\n",
    "    reader=csv.reader(f)\n",
    "    census=list(reader)"
   ]
  },
  {
   "cell_type": "code",
   "execution_count": 38,
   "id": "be78611a-cff6-40bf-8960-0e8cb8370b9c",
   "metadata": {},
   "outputs": [
    {
     "data": {
      "text/plain": [
       "[['Id',\n",
       "  'Year',\n",
       "  'Id',\n",
       "  'Sex',\n",
       "  'Id',\n",
       "  'Hispanic Origin',\n",
       "  'Id',\n",
       "  'Id2',\n",
       "  'Geography',\n",
       "  'Total',\n",
       "  'Race Alone - White',\n",
       "  'Race Alone - Hispanic',\n",
       "  'Race Alone - Black or African American',\n",
       "  'Race Alone - American Indian and Alaska Native',\n",
       "  'Race Alone - Asian',\n",
       "  'Race Alone - Native Hawaiian and Other Pacific Islander',\n",
       "  'Two or More Races'],\n",
       " ['cen42010',\n",
       "  'April 1, 2010 Census',\n",
       "  'totsex',\n",
       "  'Both Sexes',\n",
       "  'tothisp',\n",
       "  'Total',\n",
       "  '0100000US',\n",
       "  '',\n",
       "  'United States',\n",
       "  '308745538',\n",
       "  '197318956',\n",
       "  '44618105',\n",
       "  '40250635',\n",
       "  '3739506',\n",
       "  '15159516',\n",
       "  '674625',\n",
       "  '6984195']]"
      ]
     },
     "execution_count": 38,
     "metadata": {},
     "output_type": "execute_result"
    }
   ],
   "source": [
    "census"
   ]
  },
  {
   "cell_type": "markdown",
   "id": "a0400903-5a07-46d3-8197-6a6fce9b01a3",
   "metadata": {},
   "source": [
    "### 6.Ratio de deces par armes a feu en fonction de l'origine"
   ]
  },
  {
   "cell_type": "code",
   "execution_count": 81,
   "id": "d908d44c-2baa-4fa9-b69b-7fdfcc3c731f",
   "metadata": {},
   "outputs": [],
   "source": [
    "mapping={\n",
    "    'Asian/Pacific Islander':1515916+674625,\n",
    "    'Native American/Native Alaskan': 3739506,\n",
    "    'Black':40250635,\n",
    "    'Hispanic':44618105,\n",
    "    'White':197318956\n",
    "}   "
   ]
  },
  {
   "cell_type": "code",
   "execution_count": 83,
   "id": "cbccdf72-2f4e-4d4e-af45-f7de3dfb17d3",
   "metadata": {},
   "outputs": [
    {
     "data": {
      "text/plain": [
       "{'Asian/Pacific Islander': 60.53299162170441,\n",
       " 'White': 33.56849303419181,\n",
       " 'Native American/Native Alaskan': 24.521955573811088,\n",
       " 'Black': 57.8773477735196,\n",
       " 'Hispanic': 20.220491210910907}"
      ]
     },
     "execution_count": 83,
     "metadata": {},
     "output_type": "execute_result"
    }
   ],
   "source": [
    "ratio={}\n",
    "for k,v in race_counts.items():\n",
    "    ratio[k]=(v/mapping[k])*100000\n",
    "ratio"
   ]
  },
  {
   "cell_type": "markdown",
   "id": "c9f44d39-d544-4dfb-b17f-d2a759c4fbd3",
   "metadata": {},
   "source": [
    "### 7.Filtrer par homicide"
   ]
  },
  {
   "cell_type": "code",
   "execution_count": 116,
   "id": "ba04c7ef-437a-4abb-a0ca-823bbc59615c",
   "metadata": {},
   "outputs": [],
   "source": [
    "intent=[row[3] for row in data]\n",
    "races=[row[7] for row in data]"
   ]
  },
  {
   "cell_type": "code",
   "execution_count": 118,
   "id": "0940ae67-2816-46f4-8c7a-44033961f0bb",
   "metadata": {},
   "outputs": [],
   "source": [
    "homicide_counts={}\n",
    "for i, race in enumerate(races):\n",
    "    if race not in homicide_counts:\n",
    "        homicide_counts[race]=0\n",
    "    if intent[i]=='Homicide':\n",
    "        homicide_counts[race]+=1"
   ]
  },
  {
   "cell_type": "code",
   "execution_count": 120,
   "id": "fe52c6e4-f5f7-4b57-9d71-6ed9c1cee751",
   "metadata": {},
   "outputs": [
    {
     "data": {
      "text/plain": [
       "{'Asian/Pacific Islander': 559,\n",
       " 'White': 9147,\n",
       " 'Native American/Native Alaskan': 326,\n",
       " 'Black': 19510,\n",
       " 'Hispanic': 5634}"
      ]
     },
     "execution_count": 120,
     "metadata": {},
     "output_type": "execute_result"
    }
   ],
   "source": [
    "homicide_counts"
   ]
  },
  {
   "cell_type": "code",
   "execution_count": 126,
   "id": "13bdb2f9-df59-4219-9117-6e7c14ab14dd",
   "metadata": {},
   "outputs": [],
   "source": [
    "homicide_ratio={}\n",
    "for k,v in homicide_counts.items():\n",
    "    homicide_ratio[k]=(v/mapping[k])*100000"
   ]
  },
  {
   "cell_type": "code",
   "execution_count": 128,
   "id": "cf1097e9-9ca1-462d-8a69-e5a3e1487952",
   "metadata": {},
   "outputs": [
    {
     "data": {
      "text/plain": [
       "{'Asian/Pacific Islander': 25.518810193463622,\n",
       " 'White': 4.6356417981453335,\n",
       " 'Native American/Native Alaskan': 8.717729026240365,\n",
       " 'Black': 48.471284987180944,\n",
       " 'Hispanic': 12.627161104219914}"
      ]
     },
     "execution_count": 128,
     "metadata": {},
     "output_type": "execute_result"
    }
   ],
   "source": [
    "homicide_ratio"
   ]
  },
  {
   "cell_type": "code",
   "execution_count": null,
   "id": "3713ef8f-b99f-457e-8492-7238c58fca76",
   "metadata": {},
   "outputs": [],
   "source": []
  }
 ],
 "metadata": {
  "kernelspec": {
   "display_name": "Python [conda env:base] *",
   "language": "python",
   "name": "conda-base-py"
  },
  "language_info": {
   "codemirror_mode": {
    "name": "ipython",
    "version": 3
   },
   "file_extension": ".py",
   "mimetype": "text/x-python",
   "name": "python",
   "nbconvert_exporter": "python",
   "pygments_lexer": "ipython3",
   "version": "3.12.7"
  }
 },
 "nbformat": 4,
 "nbformat_minor": 5
}
